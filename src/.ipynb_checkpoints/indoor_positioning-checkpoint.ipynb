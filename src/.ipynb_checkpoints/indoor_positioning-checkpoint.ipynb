{
 "cells": [
  {
   "cell_type": "code",
   "execution_count": 1,
   "metadata": {
    "collapsed": false
   },
   "outputs": [],
   "source": [
    "from mat4py import loadmat\n",
    "import numpy as np\n",
    "import GPy\n",
    "GPy.plotting.change_plotting_library('plotly')"
   ]
  },
  {
   "cell_type": "code",
   "execution_count": 2,
   "metadata": {
    "collapsed": false
   },
   "outputs": [],
   "source": [
    "reference_map_mat = loadmat('reference_map.mat')\n",
    "reference_map=np.array(reference_map_mat['reference_map'])\n",
    "X = reference_map[0:20,0:2]\n",
    "Y = reference_map[0:20,4:5]"
   ]
  },
  {
   "cell_type": "code",
   "execution_count": 3,
   "metadata": {
    "collapsed": false
   },
   "outputs": [],
   "source": [
    "kernel = GPy.kern.RBF(input_dim=2,ARD=True)\n",
    "m = GPy.models.GPRegression(X,Y,kernel)"
   ]
  },
  {
   "cell_type": "markdown",
   "metadata": {},
   "source": [
    "## Specify Priors"
   ]
  },
  {
   "cell_type": "code",
   "execution_count": 4,
   "metadata": {
    "collapsed": false
   },
   "outputs": [
    {
     "name": "stdout",
     "output_type": "stream",
     "text": [
      "WARNING: reconstraining parameters GP_regression.rbf.lengthscale\n",
      "WARNING: reconstraining parameters GP_regression.rbf.variance\n",
      "WARNING: reconstraining parameters GP_regression.Gaussian_noise.variance\n"
     ]
    }
   ],
   "source": [
    "m.kern.lengthscale.set_prior(GPy.priors.Gamma.from_EV(1.,3.)) \n",
    "m.kern.variance.set_prior(GPy.priors.Gamma.from_EV(1.,1.)) \n",
    "m.likelihood.variance.set_prior(GPy.priors.Gamma.from_EV(1.,5.)) "
   ]
  },
  {
   "cell_type": "code",
   "execution_count": 5,
   "metadata": {
    "collapsed": false
   },
   "outputs": [
    {
     "data": {
      "text/html": [
       "<style type=\"text/css\">\n",
       ".pd{\n",
       "    font-family: \"Courier New\", Courier, monospace !important;\n",
       "    width: 100%;\n",
       "    padding: 3px;\n",
       "}\n",
       "</style>\n",
       "\n",
       "<p class=pd>\n",
       "<b>Model</b>: GP regression<br>\n",
       "<b>Objective</b>: 31275.561741<br>\n",
       "<b>Number of Parameters</b>: 4<br>\n",
       "<b>Number of Optimization Parameters</b>: 4<br>\n",
       "<b>Updates</b>: True<br>\n",
       "</p>\n",
       "<style type=\"text/css\">\n",
       ".tg  {font-family:\"Courier New\", Courier, monospace !important;padding:2px 3px;word-break:normal;border-collapse:collapse;border-spacing:0;border-color:#DCDCDC;margin:0px auto;width:100%;}\n",
       ".tg td{font-family:\"Courier New\", Courier, monospace !important;font-weight:bold;color:#444;background-color:#F7FDFA;border-style:solid;border-width:1px;overflow:hidden;word-break:normal;border-color:#DCDCDC;}\n",
       ".tg th{font-family:\"Courier New\", Courier, monospace !important;font-weight:normal;color:#fff;background-color:#26ADE4;border-style:solid;border-width:1px;overflow:hidden;word-break:normal;border-color:#DCDCDC;}\n",
       ".tg .tg-left{font-family:\"Courier New\", Courier, monospace !important;font-weight:normal;text-align:left;}\n",
       ".tg .tg-center{font-family:\"Courier New\", Courier, monospace !important;font-weight:normal;text-align:center;}\n",
       ".tg .tg-right{font-family:\"Courier New\", Courier, monospace !important;font-weight:normal;text-align:right;}\n",
       "</style>\n",
       "<table class=\"tg\"><tr><th><b>  GP_regression.         </b></th><th><b>value</b></th><th><b>constraints</b></th><th><b>    priors    </b></th></tr>\n",
       "<tr><td class=tg-left>  rbf.variance           </td><td class=tg-right>  1.0</td><td class=tg-center>    +ve    </td><td class=tg-center>   Ga(1, 1)   </td></tr>\n",
       "<tr><td class=tg-left>  rbf.lengthscale        </td><td class=tg-right> (2,)</td><td class=tg-center>    +ve    </td><td class=tg-center>Ga(0.33, 0.33)</td></tr>\n",
       "<tr><td class=tg-left>  Gaussian_noise.variance</td><td class=tg-right>  1.0</td><td class=tg-center>    +ve    </td><td class=tg-center> Ga(0.2, 0.2) </td></tr>\n",
       "</table>"
      ],
      "text/plain": [
       "<GPy.models.gp_regression.GPRegression at 0x7f3f60df5090>"
      ]
     },
     "metadata": {},
     "output_type": "display_data"
    }
   ],
   "source": [
    "from IPython.display import display\n",
    "display(m)"
   ]
  },
  {
   "cell_type": "code",
   "execution_count": 6,
   "metadata": {
    "collapsed": false
   },
   "outputs": [
    {
     "name": "stdout",
     "output_type": "stream",
     "text": [
      "This is the format of your plot grid:\n",
      "[ (1,1) x1,y1 ]\n",
      "\n"
     ]
    },
    {
     "data": {
      "text/html": [
       "<iframe id=\"igraph\" scrolling=\"no\" style=\"border:none;\" seamless=\"seamless\" src=\"https://plot.ly/~amigos_srikant/14.embed\" height=\"525px\" width=\"100%\"></iframe>"
      ],
      "text/plain": [
       "<plotly.tools.PlotlyDisplay object>"
      ]
     },
     "execution_count": 6,
     "metadata": {},
     "output_type": "execute_result"
    }
   ],
   "source": [
    "fig = m.plot()\n",
    "GPy.plotting.show(fig, filename='basic_gp_regression_notebook')"
   ]
  },
  {
   "cell_type": "code",
   "execution_count": 9,
   "metadata": {
    "collapsed": true
   },
   "outputs": [],
   "source": [
    "m.optimize(messages=True)"
   ]
  },
  {
   "cell_type": "code",
   "execution_count": 10,
   "metadata": {
    "collapsed": false
   },
   "outputs": [
    {
     "name": "stdout",
     "output_type": "stream",
     "text": [
      "Optimization restart 1/10, f = 239.288582957\n",
      "Optimization restart 2/10, f = 239.288582957\n",
      "Optimization restart 3/10, f = 239.288582957\n",
      "Optimization restart 4/10, f = 239.288584194\n",
      "Optimization restart 5/10, f = 239.288582957\n",
      "Optimization restart 6/10, f = 239.288582957\n",
      "Optimization restart 7/10, f = 239.288582966\n",
      "Optimization restart 8/10, f = 239.288582957\n",
      "Optimization restart 9/10, f = 239.288582967\n",
      "Optimization restart 10/10, f = 239.288582957\n"
     ]
    },
    {
     "data": {
      "text/plain": [
       "[<paramz.optimization.optimization.opt_lbfgsb at 0x7f3f60cd4550>,\n",
       " <paramz.optimization.optimization.opt_lbfgsb at 0x7f3f60e62310>,\n",
       " <paramz.optimization.optimization.opt_lbfgsb at 0x7f3f940e6f50>,\n",
       " <paramz.optimization.optimization.opt_lbfgsb at 0x7f3f90060d90>,\n",
       " <paramz.optimization.optimization.opt_lbfgsb at 0x7f3f9026c1d0>,\n",
       " <paramz.optimization.optimization.opt_lbfgsb at 0x7f3f60db0a10>,\n",
       " <paramz.optimization.optimization.opt_lbfgsb at 0x7f3f60db0790>,\n",
       " <paramz.optimization.optimization.opt_lbfgsb at 0x7f3f60db0e90>,\n",
       " <paramz.optimization.optimization.opt_lbfgsb at 0x7f3f60db0fd0>,\n",
       " <paramz.optimization.optimization.opt_lbfgsb at 0x7f3f60db0e10>,\n",
       " <paramz.optimization.optimization.opt_lbfgsb at 0x7f3f60db0d10>]"
      ]
     },
     "execution_count": 10,
     "metadata": {},
     "output_type": "execute_result"
    }
   ],
   "source": [
    "m.optimize_restarts(num_restarts = 10)"
   ]
  },
  {
   "cell_type": "code",
   "execution_count": 11,
   "metadata": {
    "collapsed": false,
    "scrolled": true
   },
   "outputs": [
    {
     "data": {
      "text/html": [
       "<style type=\"text/css\">\n",
       ".pd{\n",
       "    font-family: \"Courier New\", Courier, monospace !important;\n",
       "    width: 100%;\n",
       "    padding: 3px;\n",
       "}\n",
       "</style>\n",
       "\n",
       "<p class=pd>\n",
       "<b>Model</b>: GP regression<br>\n",
       "<b>Objective</b>: 239.288582957<br>\n",
       "<b>Number of Parameters</b>: 4<br>\n",
       "<b>Number of Optimization Parameters</b>: 4<br>\n",
       "<b>Updates</b>: True<br>\n",
       "</p>\n",
       "<style type=\"text/css\">\n",
       ".tg  {font-family:\"Courier New\", Courier, monospace !important;padding:2px 3px;word-break:normal;border-collapse:collapse;border-spacing:0;border-color:#DCDCDC;margin:0px auto;width:100%;}\n",
       ".tg td{font-family:\"Courier New\", Courier, monospace !important;font-weight:bold;color:#444;background-color:#F7FDFA;border-style:solid;border-width:1px;overflow:hidden;word-break:normal;border-color:#DCDCDC;}\n",
       ".tg th{font-family:\"Courier New\", Courier, monospace !important;font-weight:normal;color:#fff;background-color:#26ADE4;border-style:solid;border-width:1px;overflow:hidden;word-break:normal;border-color:#DCDCDC;}\n",
       ".tg .tg-left{font-family:\"Courier New\", Courier, monospace !important;font-weight:normal;text-align:left;}\n",
       ".tg .tg-center{font-family:\"Courier New\", Courier, monospace !important;font-weight:normal;text-align:center;}\n",
       ".tg .tg-right{font-family:\"Courier New\", Courier, monospace !important;font-weight:normal;text-align:right;}\n",
       "</style>\n",
       "<table class=\"tg\"><tr><th><b>  GP_regression.         </b></th><th><b>        value</b></th><th><b>constraints</b></th><th><b>    priors    </b></th></tr>\n",
       "<tr><td class=tg-left>  rbf.variance           </td><td class=tg-right>54.0371319806</td><td class=tg-center>    +ve    </td><td class=tg-center>   Ga(1, 1)   </td></tr>\n",
       "<tr><td class=tg-left>  rbf.lengthscale        </td><td class=tg-right>         (2,)</td><td class=tg-center>    +ve    </td><td class=tg-center>Ga(0.33, 0.33)</td></tr>\n",
       "<tr><td class=tg-left>  Gaussian_noise.variance</td><td class=tg-right>72.6425959501</td><td class=tg-center>    +ve    </td><td class=tg-center> Ga(0.2, 0.2) </td></tr>\n",
       "</table>"
      ],
      "text/plain": [
       "<GPy.models.gp_regression.GPRegression at 0x7f3f60df5090>"
      ]
     },
     "metadata": {},
     "output_type": "display_data"
    },
    {
     "name": "stdout",
     "output_type": "stream",
     "text": [
      "This is the format of your plot grid:\n",
      "[ (1,1) x1,y1 ]\n",
      "\n"
     ]
    },
    {
     "data": {
      "text/html": [
       "<iframe id=\"igraph\" scrolling=\"no\" style=\"border:none;\" seamless=\"seamless\" src=\"https://plot.ly/~amigos_srikant/16.embed\" height=\"525px\" width=\"100%\"></iframe>"
      ],
      "text/plain": [
       "<plotly.tools.PlotlyDisplay object>"
      ]
     },
     "execution_count": 11,
     "metadata": {},
     "output_type": "execute_result"
    }
   ],
   "source": [
    "display(m)\n",
    "fig = m.plot()\n",
    "GPy.plotting.show(fig, filename='basic_gp_regression_notebook_optimized')"
   ]
  },
  {
   "cell_type": "code",
   "execution_count": 8,
   "metadata": {
    "collapsed": false
   },
   "outputs": [
    {
     "name": "stdout",
     "output_type": "stream",
     "text": [
      "  \u001b[1mindex\u001b[0;0m  |  GP_regression.rbf.lengthscale  |  constraints  |      priors    \n",
      "  \u001b[1m[0]  \u001b[0;0m  |                     1.00000000  |      +ve      |  Ga(0.33, 0.33)\n",
      "  \u001b[1m[1]  \u001b[0;0m  |                     1.00000000  |      +ve      |  Ga(0.33, 0.33)\n"
     ]
    }
   ],
   "source": [
    "print m.rbf.lengthscale"
   ]
  },
  {
   "cell_type": "code",
   "execution_count": null,
   "metadata": {
    "collapsed": true
   },
   "outputs": [],
   "source": []
  }
 ],
 "metadata": {
  "anaconda-cloud": {},
  "kernelspec": {
   "display_name": "Python [conda root]",
   "language": "python",
   "name": "conda-root-py"
  },
  "language_info": {
   "codemirror_mode": {
    "name": "ipython",
    "version": 2
   },
   "file_extension": ".py",
   "mimetype": "text/x-python",
   "name": "python",
   "nbconvert_exporter": "python",
   "pygments_lexer": "ipython2",
   "version": "2.7.12"
  },
  "widgets": {
   "state": {
    "42e9b152b1ae4693a929c01f4a824f95": {
     "views": [
      {
       "cell_index": 7
      }
     ]
    }
   },
   "version": "1.2.0"
  }
 },
 "nbformat": 4,
 "nbformat_minor": 1
}
